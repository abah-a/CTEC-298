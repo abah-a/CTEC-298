{
 "cells": [
  {
   "cell_type": "code",
   "execution_count": 2,
   "id": "f9f48c0c-0b6f-40c4-9098-1377f3a2c6b6",
   "metadata": {},
   "outputs": [
    {
     "name": "stdout",
     "output_type": "stream",
     "text": [
      "[179.63  214.544 209.55  204.556 189.596 194.59 ]\n",
      "cars.csv file is not found in the directory.\n"
     ]
    }
   ],
   "source": [
    "# Code cell 1: Numpy Arrays\n",
    "# Note: Requires numpy installation\n",
    "\n",
    "weight_kg = [81.65, 97.52, 95.25, 92.98, 86.18, 88.45]\n",
    "\n",
    "try:\n",
    "    import numpy as np\n",
    "\n",
    "    np_weight_kg = np.array(weight_kg)\n",
    "    np_weight_lbs = np_weight_kg * 2.2\n",
    "\n",
    "    print(np_weight_lbs)\n",
    "except ModuleNotFoundError:\n",
    "    print(\"Numpy module is not installed.\")\n",
    "\n",
    "\n",
    "# Code cell 2: Pandas Basic\n",
    "# Note: Requires pandas installation and 'cars.csv' file in the same directory\n",
    "\n",
    "try:\n",
    "    import pandas as pd\n",
    "\n",
    "    cars = pd.read_csv('cars.csv', index_col=0)\n",
    "\n",
    "    print(cars.iloc[2])\n",
    "    print(cars.loc[['AUS', 'EG']])\n",
    "except ModuleNotFoundError:\n",
    "    print(\"Pandas module is not installed.\")\n",
    "except FileNotFoundError:\n",
    "    print(\"cars.csv file is not found in the directory.\")"
   ]
  },
  {
   "cell_type": "code",
   "execution_count": null,
   "id": "8cc870c9-293b-42e5-bb32-1468b81124dc",
   "metadata": {},
   "outputs": [],
   "source": []
  }
 ],
 "metadata": {
  "kernelspec": {
   "display_name": "Python 3 (ipykernel)",
   "language": "python",
   "name": "python3"
  },
  "language_info": {
   "codemirror_mode": {
    "name": "ipython",
    "version": 3
   },
   "file_extension": ".py",
   "mimetype": "text/x-python",
   "name": "python",
   "nbconvert_exporter": "python",
   "pygments_lexer": "ipython3",
   "version": "3.13.0"
  }
 },
 "nbformat": 4,
 "nbformat_minor": 5
}
